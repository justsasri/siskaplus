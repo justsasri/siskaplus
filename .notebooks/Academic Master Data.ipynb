{
 "cells": [
  {
   "cell_type": "code",
   "execution_count": 16,
   "metadata": {
    "scrolled": false
   },
   "outputs": [],
   "source": [
    "import os\n",
    "import pandas as pd\n",
    "import numpy as np\n",
    "from django.db import transaction\n",
    "from django.conf import settings\n",
    "from intranet.academic.models import (\n",
    "    SchoolYear,\n",
    "    AcademicYear, \n",
    "    CourseType, \n",
    "    CourseGroup, \n",
    "    ManagementUnit,\n",
    "    Curriculum,\n",
    "    Concentration,\n",
    "    Course,\n",
    "    CourseRequisite\n",
    ")\n",
    "os.environ[\"DJANGO_ALLOW_ASYNC_UNSAFE\"] = \"true\"\n"
   ]
  },
  {
   "cell_type": "code",
   "execution_count": 17,
   "metadata": {
    "scrolled": true
   },
   "outputs": [],
   "source": [
    "# Import SchoolYear\n",
    "schoolyear_data = pd.read_csv('academic_schoolyear.csv', header=0).to_dict(orient='records')\n",
    "with transaction.atomic():\n",
    "    school_years = []\n",
    "    for items in schoolyear_data:\n",
    "        school_years.append(SchoolYear(**items))\n",
    "    \n",
    "    SchoolYear.objects.bulk_create(school_years)"
   ]
  },
  {
   "cell_type": "code",
   "execution_count": 18,
   "metadata": {
    "scrolled": false
   },
   "outputs": [],
   "source": [
    "# Import AcadmicYear\n",
    "academicyear_data = pd.read_csv('academic_academicyear.csv', header=0).to_dict(orient='records')\n",
    "with transaction.atomic():\n",
    "    academic_years = []\n",
    "    for items in academicyear_data:\n",
    "        academic_years.append(AcademicYear(**items))\n",
    "    \n",
    "    AcademicYear.objects.bulk_create(academic_years)"
   ]
  },
  {
   "cell_type": "code",
   "execution_count": 19,
   "metadata": {},
   "outputs": [],
   "source": [
    "# Import CourseType\n",
    "coursetype_data = pd.read_csv('academic_coursetype.csv', header=0).to_dict(orient='records')\n",
    "with transaction.atomic():\n",
    "    coursetypes = []\n",
    "    for items in coursetype_data:\n",
    "        coursetypes.append(CourseType(**items))\n",
    "    \n",
    "    CourseType.objects.bulk_create(coursetypes)"
   ]
  },
  {
   "cell_type": "code",
   "execution_count": 20,
   "metadata": {
    "scrolled": false
   },
   "outputs": [],
   "source": [
    "# Import CourseGroup\n",
    "coursegroup_data = pd.read_csv('academic_coursegroup.csv', header=0).to_dict(orient='records')\n",
    "with transaction.atomic():\n",
    "    coursegroups = []\n",
    "    for items in coursegroup_data:\n",
    "        coursegroups.append(CourseGroup(**items))\n",
    "    \n",
    "    CourseGroup.objects.bulk_create(coursegroups)"
   ]
  },
  {
   "cell_type": "code",
   "execution_count": 21,
   "metadata": {
    "scrolled": false
   },
   "outputs": [],
   "source": [
    "# Import ManagementUnit\n",
    "managementunit_data = pd.read_csv('academic_managementunit.csv', header=0).replace({np.nan: None}).to_dict(orient='records')\n",
    "with transaction.atomic():\n",
    "    units = []\n",
    "    for items in managementunit_data:\n",
    "        units.append(ManagementUnit(**items))\n",
    "    \n",
    "    ManagementUnit.objects.bulk_create(units)"
   ]
  },
  {
   "cell_type": "code",
   "execution_count": 22,
   "metadata": {},
   "outputs": [],
   "source": [
    "# Import Concentration AKT\n",
    "concentration_data = pd.read_csv('academic_concentration.csv', header=0).replace({np.nan: None}).to_dict(orient='records')\n",
    "with transaction.atomic():\n",
    "    concents = []\n",
    "    for items in concentration_data:\n",
    "        concents.append(Concentration(**items))\n",
    "    \n",
    "    Concentration.objects.bulk_create(concents)"
   ]
  },
  {
   "cell_type": "code",
   "execution_count": 23,
   "metadata": {},
   "outputs": [],
   "source": [
    "# Import Course AKT\n",
    "course_data = pd.read_csv('academic_course.csv', header=0).replace({np.nan: None}).to_dict(orient='records')\n",
    "with transaction.atomic():\n",
    "    courses = []\n",
    "    for items in course_data:\n",
    "        courses.append(Course(**items))\n",
    "    \n",
    "    Course.objects.bulk_create(courses)"
   ]
  },
  {
   "cell_type": "code",
   "execution_count": 24,
   "metadata": {
    "scrolled": false
   },
   "outputs": [],
   "source": [
    "# Import Course Requisite AKT\n",
    "course_requisite_data = pd.read_csv('academic_course_requisites.csv', header=0).replace({np.nan: None}).to_dict(orient='records')\n",
    "with transaction.atomic():\n",
    "    reqs = []\n",
    "    for items in course_requisite_data:\n",
    "        course = Course.objects.get(old_code=items['course'])\n",
    "        requisite = Course.objects.get(old_code=items['requisite'])\n",
    "        reqs.append(CourseRequisite(course=course, requisite=requisite))\n",
    "    \n",
    "    CourseRequisite.objects.bulk_create(reqs)"
   ]
  },
  {
   "cell_type": "code",
   "execution_count": 25,
   "metadata": {},
   "outputs": [],
   "source": [
    "# Import Curriculum\n",
    "curriculum_data = pd.read_csv('academic_curriculum.csv', header=0).replace({np.nan: None}).to_dict(orient='records')\n",
    "with transaction.atomic():\n",
    "    curriculums = []\n",
    "    for items in curriculum_data:\n",
    "        curriculums.append(Curriculum(**items))\n",
    "    \n",
    "    Curriculum.objects.bulk_create(curriculums)"
   ]
  },
  {
   "cell_type": "code",
   "execution_count": 26,
   "metadata": {},
   "outputs": [],
   "source": [
    "# Import Curricullum Course AKT\n",
    "curriculumcourse_data = pd.read_csv('academic_curriculumcourse.csv', header=0).replace({np.nan: None}).to_dict(orient='records')\n",
    "with transaction.atomic():\n",
    "    for items in curriculumcourse_data:\n",
    "        course = Course.objects.get(old_code=items['course'])\n",
    "        curriculum_id = items['curriculum_id']\n",
    "        semester = items['semester_number']\n",
    "        curriculum_course = CurriculumCourse(course=course, curriculum_id=curriculum_id, semester_number=semester)\n",
    "        curriculum_course.save()\n",
    "        \n",
    "        # Add concentration\n",
    "        concents = items['concentration']\n",
    "        if concents:\n",
    "            for code in concents.split(','):\n",
    "                concent = Concentration.objects.get(code=code)\n",
    "                curriculum_course.concentration.add(concent)"
   ]
  }
 ],
 "metadata": {
  "kernelspec": {
   "display_name": "Django Shell-Plus",
   "language": "python",
   "name": "django_extensions"
  },
  "language_info": {
   "codemirror_mode": {
    "name": "ipython",
    "version": 3
   },
   "file_extension": ".py",
   "mimetype": "text/x-python",
   "name": "python",
   "nbconvert_exporter": "python",
   "pygments_lexer": "ipython3",
   "version": "3.7.4"
  }
 },
 "nbformat": 4,
 "nbformat_minor": 4
}
