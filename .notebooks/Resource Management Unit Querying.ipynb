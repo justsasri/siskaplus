{
 "cells": [
  {
   "cell_type": "code",
   "execution_count": 1,
   "metadata": {},
   "outputs": [
    {
     "name": "stdout",
     "output_type": "stream",
     "text": [
      "Teknik Informatika\n",
      "--Pengantar Sistem Dijital\n",
      "--Pengantar Organisasi Komputer\n",
      "--Matematika Dasar 2\n",
      "--Pemrograman Lanjut\n",
      "--Teori Bahasa & Automata\n",
      "--Rekayasa Perangkat Lunak\n",
      "--Pemrograman Sistem\n",
      "--Sistem Cerdas\n",
      "--Jaringan Komputer\n",
      "--Proyek Perangkat Lunak\n",
      "--Data Science & Analytics\n",
      "--Analisis Numerik\n",
      "--Desain & Analisis Algoritma\n",
      "--Basis Data Lanjut\n",
      "--Teknik Kompilator\n",
      "--Grafika Komputer\n",
      "--Kriptografi & Keamanan Informasi\n",
      "--Layanan & Aplikasi Web\n",
      "--Pemrograman Paralel\n",
      "--Teknologi Mobile\n",
      "--Penjaminan Mutu Perangkat Lunak\n",
      "--Penambangan Data\n",
      "Sistem Informasi\n",
      "--Administrasi Bisnis\n",
      "--Prinsip - Prinsip Manajemen\n",
      "--Sistem - Sistem Perusahaan\n",
      "--Sistem Informasi Akuntansi dan Keuangan\n",
      "--Sistem Interaksi\n",
      "--Analisis dan Perancangan Sistem Informasi\n",
      "--Arsitektur & Pemrograman Aplikasi Perusahaan\n",
      "--Manajemen Proyek TI\n",
      "--Jaringan Komunikasi Data\n",
      "--Proyek Pengembangan Sistem Informasi\n",
      "--Komunikasi Bisnis dan Teknis\n",
      "--Statistika Terapan\n",
      "--Manajemen Sistem Informasi\n",
      "--Manajemen Layanan TI\n",
      "--Administrasi Sistem\n",
      "--Manajemen Infrastruktur TI\n",
      "--Teknologi Mobile\n",
      "--Pengantar Keamanan Informasi\n",
      "--Pengembangan Perangkat Lunak Open Source\n",
      "--Integrasi Aplikasi Perusahaan\n",
      "--Dasar - Dasar Audit SI\n",
      "--Manajemen Infrastruktur SI / TI\n",
      "Sistem Komputer\n",
      "Desain Komunikasi Visual\n",
      "Magister Teknik Informatika\n"
     ]
    }
   ],
   "source": [
    "from wagtailkit.academic.models import ResourceManagementUnit, Course\n",
    "from wagtailkit.teachers.models import Teacher\n",
    "\n",
    "rmu = ResourceManagementUnit.objects\n",
    "fik = rmu.get(code='FIK')\n",
    "prodi_fik = fik.get_children()\n",
    "\n",
    "for prodi in prodi_fik:\n",
    "    print(prodi.name)\n",
    "    for mk in prodi.courses.all():\n",
    "        print('--' + mk.name)"
   ]
  },
  {
   "cell_type": "code",
   "execution_count": 2,
   "metadata": {},
   "outputs": [
    {
     "name": "stdout",
     "output_type": "stream",
     "text": [
      "IBI Darmajaya\n",
      "-Fakultas Ilmu Komputer: 18\n",
      "------Dasar - Dasar Arsitektur Komputer\n",
      "------Prinsip - Prinsip Sistem Informasi\n",
      "------Matematika Dasar\n",
      "------Fisika Dasar\n",
      "------Matematika Diskret 1\n",
      "------Dasar-Dasar Pemrograman 1\n",
      "------Dasar-Dasar Pemrograman 2\n",
      "------Matematika Diskret 2\n",
      "------Aljabar Linier\n",
      "------Statistika dan Probabilitas\n",
      "------Perancangan & Pemrograman Web\n",
      "------Struktur Data & Algoritma\n",
      "------Sistem Operasi\n",
      "------Basis Data\n",
      "------Kerja Praktik\n",
      "------Manusia dan Komputer\n",
      "------Tugas Akhir\n",
      "------Metodologi Penelitian & Penulisan Ilmiah\n",
      "--Teknik Informatika: 22\n",
      "------Pengantar Sistem Dijital\n",
      "------Pengantar Organisasi Komputer\n",
      "------Matematika Dasar 2\n",
      "------Pemrograman Lanjut\n",
      "------Teori Bahasa & Automata\n",
      "------Rekayasa Perangkat Lunak\n",
      "------Pemrograman Sistem\n",
      "------Sistem Cerdas\n",
      "------Jaringan Komputer\n",
      "------Proyek Perangkat Lunak\n",
      "------Data Science & Analytics\n",
      "------Analisis Numerik\n",
      "------Desain & Analisis Algoritma\n",
      "------Basis Data Lanjut\n",
      "------Teknik Kompilator\n",
      "------Grafika Komputer\n",
      "------Kriptografi & Keamanan Informasi\n",
      "------Layanan & Aplikasi Web\n",
      "------Pemrograman Paralel\n",
      "------Teknologi Mobile\n",
      "------Penjaminan Mutu Perangkat Lunak\n",
      "------Penambangan Data\n",
      "--Sistem Informasi: 22\n",
      "------Administrasi Bisnis\n",
      "------Prinsip - Prinsip Manajemen\n",
      "------Sistem - Sistem Perusahaan\n",
      "------Sistem Informasi Akuntansi dan Keuangan\n",
      "------Sistem Interaksi\n",
      "------Analisis dan Perancangan Sistem Informasi\n",
      "------Arsitektur & Pemrograman Aplikasi Perusahaan\n",
      "------Manajemen Proyek TI\n",
      "------Jaringan Komunikasi Data\n",
      "------Proyek Pengembangan Sistem Informasi\n",
      "------Komunikasi Bisnis dan Teknis\n",
      "------Statistika Terapan\n",
      "------Manajemen Sistem Informasi\n",
      "------Manajemen Layanan TI\n",
      "------Administrasi Sistem\n",
      "------Manajemen Infrastruktur TI\n",
      "------Teknologi Mobile\n",
      "------Pengantar Keamanan Informasi\n",
      "------Pengembangan Perangkat Lunak Open Source\n",
      "------Integrasi Aplikasi Perusahaan\n",
      "------Dasar - Dasar Audit SI\n",
      "------Manajemen Infrastruktur SI / TI\n",
      "--Sistem Komputer: 0\n",
      "--Desain Komunikasi Visual: 0\n",
      "--Magister Teknik Informatika: 0\n",
      "-Fakultas Ekonomi dan Bisnis: 0\n",
      "--Akuntansi: 0\n",
      "--Manajemen: 0\n",
      "--Bisnis Digital: 0\n",
      "--Magister Manajemen: 0\n"
     ]
    }
   ],
   "source": [
    "strip = '-'\n",
    "\n",
    "def get_child(instance):\n",
    "    for child in instance.get_children():\n",
    "        print(strip * child.level + child.name + ': ' + str(child.courses.count()))\n",
    "        for mk in child.courses.all():\n",
    "            print('------' + mk.name)\n",
    "        get_child(child)\n",
    "        \n",
    "for mu in rmu.filter(level=0):\n",
    "    print(strip * mu.level + mu.name)\n",
    "    get_child(mu)"
   ]
  },
  {
   "cell_type": "code",
   "execution_count": 3,
   "metadata": {},
   "outputs": [
    {
     "name": "stdout",
     "output_type": "stream",
     "text": [
      "IBI Darmajaya\n",
      " > Fakultas Ilmu Komputer\n",
      " > Sistem Informasi\n"
     ]
    }
   ],
   "source": [
    "sip = rmu.get(code='SIP')\n",
    "ancestors = sip.get_ancestors(ascending=False, include_self=True)\n",
    "for ancestor in ancestors:\n",
    "    sep = '' if ancestor is ancestors[0] else ' > '\n",
    "    print(sep + ancestor.name)"
   ]
  },
  {
   "cell_type": "code",
   "execution_count": 4,
   "metadata": {},
   "outputs": [
    {
     "ename": "FieldDoesNotExist",
     "evalue": "Teacher has no field named 'homebase'",
     "output_type": "error",
     "traceback": [
      "\u001b[1;31m---------------------------------------------------------------------------\u001b[0m",
      "\u001b[1;31mKeyError\u001b[0m                                  Traceback (most recent call last)",
      "\u001b[1;32mD:\\WAGTAIL_PROJECT\\wagtailkits\\.venv\\lib\\site-packages\\django\\db\\models\\options.py\u001b[0m in \u001b[0;36mget_field\u001b[1;34m(self, field_name)\u001b[0m\n\u001b[0;32m    564\u001b[0m             \u001b[1;31m# field map.\u001b[0m\u001b[1;33m\u001b[0m\u001b[1;33m\u001b[0m\u001b[1;33m\u001b[0m\u001b[0m\n\u001b[1;32m--> 565\u001b[1;33m             \u001b[1;32mreturn\u001b[0m \u001b[0mself\u001b[0m\u001b[1;33m.\u001b[0m\u001b[0mfields_map\u001b[0m\u001b[1;33m[\u001b[0m\u001b[0mfield_name\u001b[0m\u001b[1;33m]\u001b[0m\u001b[1;33m\u001b[0m\u001b[1;33m\u001b[0m\u001b[0m\n\u001b[0m\u001b[0;32m    566\u001b[0m         \u001b[1;32mexcept\u001b[0m \u001b[0mKeyError\u001b[0m\u001b[1;33m:\u001b[0m\u001b[1;33m\u001b[0m\u001b[1;33m\u001b[0m\u001b[0m\n",
      "\u001b[1;31mKeyError\u001b[0m: 'homebase'",
      "\nDuring handling of the above exception, another exception occurred:\n",
      "\u001b[1;31mFieldDoesNotExist\u001b[0m                         Traceback (most recent call last)",
      "\u001b[1;32m<ipython-input-4-3358f2107ad7>\u001b[0m in \u001b[0;36m<module>\u001b[1;34m\u001b[0m\n\u001b[0;32m      7\u001b[0m         \u001b[0mget_child\u001b[0m\u001b[1;33m(\u001b[0m\u001b[0mchild\u001b[0m\u001b[1;33m)\u001b[0m\u001b[1;33m\u001b[0m\u001b[1;33m\u001b[0m\u001b[0m\n\u001b[0;32m      8\u001b[0m \u001b[1;33m\u001b[0m\u001b[0m\n\u001b[1;32m----> 9\u001b[1;33m \u001b[0mrmu_with_teacher_count\u001b[0m \u001b[1;33m=\u001b[0m \u001b[0mrmu\u001b[0m\u001b[1;33m.\u001b[0m\u001b[0madd_related_count\u001b[0m\u001b[1;33m(\u001b[0m\u001b[0mrmu\u001b[0m\u001b[1;33m.\u001b[0m\u001b[0mall\u001b[0m\u001b[1;33m(\u001b[0m\u001b[1;33m)\u001b[0m\u001b[1;33m,\u001b[0m \u001b[0mTeacher\u001b[0m\u001b[1;33m,\u001b[0m \u001b[1;34m'homebase'\u001b[0m\u001b[1;33m,\u001b[0m \u001b[1;34m'teacher_count'\u001b[0m\u001b[1;33m,\u001b[0m \u001b[0mcumulative\u001b[0m\u001b[1;33m=\u001b[0m\u001b[1;32mTrue\u001b[0m\u001b[1;33m)\u001b[0m\u001b[1;33m\u001b[0m\u001b[1;33m\u001b[0m\u001b[0m\n\u001b[0m\u001b[0;32m     10\u001b[0m \u001b[1;33m\u001b[0m\u001b[0m\n\u001b[0;32m     11\u001b[0m \u001b[1;32mfor\u001b[0m \u001b[0mmu\u001b[0m \u001b[1;32min\u001b[0m \u001b[0mrmu_with_teacher_count\u001b[0m\u001b[1;33m:\u001b[0m\u001b[1;33m\u001b[0m\u001b[1;33m\u001b[0m\u001b[0m\n",
      "\u001b[1;32mD:\\WAGTAIL_PROJECT\\wagtailkits\\.venv\\lib\\site-packages\\mptt\\managers.py\u001b[0m in \u001b[0;36madd_related_count\u001b[1;34m(self, queryset, rel_model, rel_field, count_attr, cumulative)\u001b[0m\n\u001b[0;32m    450\u001b[0m \u001b[1;33m\u001b[0m\u001b[0m\n\u001b[0;32m    451\u001b[0m         \u001b[0mmeta\u001b[0m \u001b[1;33m=\u001b[0m \u001b[0mself\u001b[0m\u001b[1;33m.\u001b[0m\u001b[0mmodel\u001b[0m\u001b[1;33m.\u001b[0m\u001b[0m_meta\u001b[0m\u001b[1;33m\u001b[0m\u001b[1;33m\u001b[0m\u001b[0m\n\u001b[1;32m--> 452\u001b[1;33m         \u001b[0mmptt_field\u001b[0m \u001b[1;33m=\u001b[0m \u001b[0mrel_model\u001b[0m\u001b[1;33m.\u001b[0m\u001b[0m_meta\u001b[0m\u001b[1;33m.\u001b[0m\u001b[0mget_field\u001b[0m\u001b[1;33m(\u001b[0m\u001b[0mrel_field\u001b[0m\u001b[1;33m)\u001b[0m\u001b[1;33m\u001b[0m\u001b[1;33m\u001b[0m\u001b[0m\n\u001b[0m\u001b[0;32m    453\u001b[0m \u001b[1;33m\u001b[0m\u001b[0m\n\u001b[0;32m    454\u001b[0m         \u001b[1;32mif\u001b[0m \u001b[0misinstance\u001b[0m\u001b[1;33m(\u001b[0m\u001b[0mmptt_field\u001b[0m\u001b[1;33m,\u001b[0m \u001b[0mManyToManyField\u001b[0m\u001b[1;33m)\u001b[0m\u001b[1;33m:\u001b[0m\u001b[1;33m\u001b[0m\u001b[1;33m\u001b[0m\u001b[0m\n",
      "\u001b[1;32mD:\\WAGTAIL_PROJECT\\wagtailkits\\.venv\\lib\\site-packages\\django\\db\\models\\options.py\u001b[0m in \u001b[0;36mget_field\u001b[1;34m(self, field_name)\u001b[0m\n\u001b[0;32m    565\u001b[0m             \u001b[1;32mreturn\u001b[0m \u001b[0mself\u001b[0m\u001b[1;33m.\u001b[0m\u001b[0mfields_map\u001b[0m\u001b[1;33m[\u001b[0m\u001b[0mfield_name\u001b[0m\u001b[1;33m]\u001b[0m\u001b[1;33m\u001b[0m\u001b[1;33m\u001b[0m\u001b[0m\n\u001b[0;32m    566\u001b[0m         \u001b[1;32mexcept\u001b[0m \u001b[0mKeyError\u001b[0m\u001b[1;33m:\u001b[0m\u001b[1;33m\u001b[0m\u001b[1;33m\u001b[0m\u001b[0m\n\u001b[1;32m--> 567\u001b[1;33m             \u001b[1;32mraise\u001b[0m \u001b[0mFieldDoesNotExist\u001b[0m\u001b[1;33m(\u001b[0m\u001b[1;34m\"%s has no field named '%s'\"\u001b[0m \u001b[1;33m%\u001b[0m \u001b[1;33m(\u001b[0m\u001b[0mself\u001b[0m\u001b[1;33m.\u001b[0m\u001b[0mobject_name\u001b[0m\u001b[1;33m,\u001b[0m \u001b[0mfield_name\u001b[0m\u001b[1;33m)\u001b[0m\u001b[1;33m)\u001b[0m\u001b[1;33m\u001b[0m\u001b[1;33m\u001b[0m\u001b[0m\n\u001b[0m\u001b[0;32m    568\u001b[0m \u001b[1;33m\u001b[0m\u001b[0m\n\u001b[0;32m    569\u001b[0m     \u001b[1;32mdef\u001b[0m \u001b[0mget_base_chain\u001b[0m\u001b[1;33m(\u001b[0m\u001b[0mself\u001b[0m\u001b[1;33m,\u001b[0m \u001b[0mmodel\u001b[0m\u001b[1;33m)\u001b[0m\u001b[1;33m:\u001b[0m\u001b[1;33m\u001b[0m\u001b[1;33m\u001b[0m\u001b[0m\n",
      "\u001b[1;31mFieldDoesNotExist\u001b[0m: Teacher has no field named 'homebase'"
     ]
    }
   ],
   "source": [
    "strip = '-'\n",
    "\n",
    "def get_child(instance):\n",
    "    for child in instance.get_children():\n",
    "        print(strip * child.level + child.name + ': ' + str(child.teacher_count))\n",
    "        \n",
    "        get_child(child)\n",
    "\n",
    "rmu_with_teacher_count = rmu.add_related_count(rmu.all(), Teacher, 'homebase', 'teacher_count', cumulative=True)\n",
    "        \n",
    "for mu in rmu_with_teacher_count:\n",
    "    print(strip * mu.level + mu.name + ' - Teacher : {}'.format(mu.teacher_count))\n",
    "    for teacher in mu.teachers.all():\n",
    "        print('------' + teacher.person.fullname + ', NIDN: ' + teacher.tid)"
   ]
  },
  {
   "cell_type": "code",
   "execution_count": null,
   "metadata": {},
   "outputs": [],
   "source": []
  },
  {
   "cell_type": "code",
   "execution_count": null,
   "metadata": {
    "scrolled": false
   },
   "outputs": [],
   "source": [
    "from django.db import models\n",
    "from wagtailkit.academic.models import ResourceManagementUnit, Course\n",
    "from wagtailkit.teachers.models import Teacher\n",
    "\n",
    "strip='-'\n",
    "rmu = ResourceManagementUnit.objects\n",
    "\n",
    "rmus = rmu.annotate(\n",
    "    active_courses=\n",
    "            models.Subquery(\n",
    "                Course.objects.filter(\n",
    "                    models.Q(rmu__tree_id=models.OuterRef('tree_id')) \n",
    "                    & models.Q(rmu__lft__gte=models.OuterRef('lft')) \n",
    "                    & models.Q(rmu__lft__lte=models.OuterRef('rght'))\n",
    "                ).order_by().values('rmu__tree_id').annotate(\n",
    "                    total=models.Count('*')\n",
    "                ).values('total'),\n",
    "                output_field=models.IntegerField()\n",
    "           )\n",
    ")\n",
    "\n",
    "for rmu in rmus:\n",
    "    print(rmu.name + ' course:' + str(rmu.active_courses))"
   ]
  },
  {
   "cell_type": "code",
   "execution_count": null,
   "metadata": {},
   "outputs": [],
   "source": [
    "for rm in ResourceManagementUnit.objects.get_summary():\n",
    "    print(\"{}{} {}:{} total:{}\".format(strip * rm.level, str(rm.name), str(rm.code), str(rm.total_teachers), str(rm.total_cumulative_courses)))"
   ]
  }
 ],
 "metadata": {
  "kernelspec": {
   "display_name": "Django Shell-Plus",
   "language": "python",
   "name": "django_extensions"
  },
  "language_info": {
   "codemirror_mode": {
    "name": "ipython",
    "version": 3
   },
   "file_extension": ".py",
   "mimetype": "text/x-python",
   "name": "python",
   "nbconvert_exporter": "python",
   "pygments_lexer": "ipython3",
   "version": "3.7.4"
  }
 },
 "nbformat": 4,
 "nbformat_minor": 4
}
