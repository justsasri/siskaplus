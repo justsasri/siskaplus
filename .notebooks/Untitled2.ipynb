{
 "cells": [
  {
   "cell_type": "code",
   "execution_count": 12,
   "metadata": {
    "scrolled": false
   },
   "outputs": [
    {
     "name": "stdout",
     "output_type": "stream",
     "text": [
      "        WSM      WPM  Moora\n",
      "A1   0.6575  44.2036  208.9\n",
      "A2   0.6028  40.2904  192.2\n",
      "A3   0.4076  28.2743  204.0\n",
      "A4   0.4368  31.6223  182.1\n",
      "A5   0.3593  25.7910  185.1\n",
      "A6   0.2525  22.5557  147.4\n",
      "A7   0.4305  31.7342  203.6\n",
      "A8   0.5780  36.4024  199.2\n",
      "A9   0.7006  42.4713  280.2\n",
      "A10  0.6315  43.0786  218.0\n",
      "      WSM   WPM  Moora\n",
      "A1    2.0   1.0    3.0\n",
      "A2    4.0   4.0    7.0\n",
      "A3    8.0   8.0    4.0\n",
      "A4    6.0   7.0    9.0\n",
      "A5    9.0   9.0    8.0\n",
      "A6   10.0  10.0   10.0\n",
      "A7    7.0   6.0    5.0\n",
      "A8    5.0   5.0    6.0\n",
      "A9    1.0   3.0    1.0\n",
      "A10   3.0   2.0    2.0\n",
      "          WSM     WPM   Moora     RSI  RSR\n",
      "WSM    1.0000  0.9515  0.7455  0.8990    2\n",
      "WPM    0.9515  1.0000  0.7576  0.9030    3\n",
      "Moora  0.7455  0.7576  1.0000  0.8343    1\n"
     ]
    }
   ],
   "source": [
    "import os\n",
    "import pandas as pd\n",
    "import numpy as np\n",
    "import decipy.executors as exe\n",
    "from django.conf import settings\n",
    "\n",
    "data_matrix = exe.DataMatrix(os.path.join(settings.BASE_DIR, 'decipy/SampleData_10x10.csv'))\n",
    "alts = data_matrix.data.index\n",
    "crits = data_matrix.data.columns\n",
    "beneficial = [True, True, True, True, True, True, True, True, True, True]\n",
    "weights = [0.10, 0.10, 0.10, 0.10, 0.10, 0.10, 0.10, 0.10, 0.10, 0.10]\n",
    "xij = data_matrix.data\n",
    "\n",
    "def run():\n",
    "    kwargs = {\n",
    "        'data': xij,\n",
    "        'beneficial': beneficial,\n",
    "        'weights': weights,\n",
    "        'rank_reverse': True,\n",
    "        'rank_method': \"ordinal\"\n",
    "    }\n",
    "    wsm = exe.WSM(**kwargs)\n",
    "    wpm = exe.WPM(**kwargs)\n",
    "    moora = exe.Moora(**kwargs)\n",
    "    analizer = exe.RankSimilarityAnalyzer()\n",
    "    analizer.add_executor(wsm)\n",
    "    analizer.add_executor(wpm)\n",
    "    analizer.add_executor(moora)\n",
    "    analizer.analyze()\n",
    "    print(analizer.get_rates_dataframe())\n",
    "    print(analizer.get_ranks_dataframe())\n",
    "    print(analizer.get_correlations_dataframe())\n",
    "\n",
    "run()"
   ]
  }
 ],
 "metadata": {
  "kernelspec": {
   "display_name": "Django Shell-Plus",
   "language": "python",
   "name": "django_extensions"
  },
  "language_info": {
   "codemirror_mode": {
    "name": "ipython",
    "version": 3
   },
   "file_extension": ".py",
   "mimetype": "text/x-python",
   "name": "python",
   "nbconvert_exporter": "python",
   "pygments_lexer": "ipython3",
   "version": "3.7.4"
  }
 },
 "nbformat": 4,
 "nbformat_minor": 4
}
