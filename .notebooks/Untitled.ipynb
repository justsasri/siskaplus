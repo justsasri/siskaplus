{
 "cells": [
  {
   "cell_type": "code",
   "execution_count": 1,
   "metadata": {},
   "outputs": [],
   "source": [
    "import os\n",
    "import pandas as pd\n",
    "import numpy as np\n",
    "from django.db import transaction, models\n",
    "from django.conf import settings\n",
    "from intranet.academic.models import (\n",
    "    SchoolYear,\n",
    "    AcademicYear, \n",
    "    CourseType, \n",
    "    CourseGroup, \n",
    "    ManagementUnit,\n",
    "    Curriculum,\n",
    "    Concentration,\n",
    "    Course,\n",
    "    CourseRequisite,\n",
    "    Student\n",
    ")\n",
    "os.environ[\"DJANGO_ALLOW_ASYNC_UNSAFE\"] = \"true\""
   ]
  },
  {
   "cell_type": "code",
   "execution_count": 16,
   "metadata": {},
   "outputs": [
    {
     "name": "stdout",
     "output_type": "stream",
     "text": [
      "F(alphabetic)\n"
     ]
    },
    {
     "ename": "TypeError",
     "evalue": "QuerySet.annotate() received non-expression(s): .",
     "output_type": "error",
     "traceback": [
      "\u001b[1;31m---------------------------------------------------------------------------\u001b[0m",
      "\u001b[1;31mTypeError\u001b[0m                                 Traceback (most recent call last)",
      "\u001b[1;32m<ipython-input-16-9aaa200d1ea8>\u001b[0m in \u001b[0;36m<module>\u001b[1;34m\u001b[0m\n\u001b[0;32m     53\u001b[0m \u001b[1;33m\u001b[0m\u001b[0m\n\u001b[0;32m     54\u001b[0m \u001b[0mstudent\u001b[0m \u001b[1;33m=\u001b[0m \u001b[0mStudent\u001b[0m\u001b[1;33m.\u001b[0m\u001b[0mobjects\u001b[0m\u001b[1;33m.\u001b[0m\u001b[0mfirst\u001b[0m\u001b[1;33m(\u001b[0m\u001b[1;33m)\u001b[0m\u001b[1;33m\u001b[0m\u001b[1;33m\u001b[0m\u001b[0m\n\u001b[1;32m---> 55\u001b[1;33m \u001b[0mscores\u001b[0m \u001b[1;33m=\u001b[0m \u001b[0mget_all_scores\u001b[0m\u001b[1;33m(\u001b[0m\u001b[0mstudent\u001b[0m\u001b[1;33m,\u001b[0m \u001b[0msemester\u001b[0m\u001b[1;33m=\u001b[0m\u001b[1;36m5\u001b[0m\u001b[1;33m)\u001b[0m\u001b[1;33m\u001b[0m\u001b[1;33m\u001b[0m\u001b[0m\n\u001b[0m\u001b[0;32m     56\u001b[0m \u001b[0msummary\u001b[0m \u001b[1;33m=\u001b[0m \u001b[0mget_scores_summary\u001b[0m\u001b[1;33m(\u001b[0m\u001b[0mscores\u001b[0m\u001b[1;33m)\u001b[0m\u001b[1;33m\u001b[0m\u001b[1;33m\u001b[0m\u001b[0m\n\u001b[0;32m     57\u001b[0m \u001b[0mtab1\u001b[0m \u001b[1;33m=\u001b[0m \u001b[0mpd\u001b[0m\u001b[1;33m.\u001b[0m\u001b[0mDataFrame\u001b[0m\u001b[1;33m(\u001b[0m\u001b[0mdata\u001b[0m\u001b[1;33m=\u001b[0m\u001b[0mscores\u001b[0m\u001b[1;33m.\u001b[0m\u001b[0mvalues\u001b[0m\u001b[1;33m(\u001b[0m\u001b[1;34m'id'\u001b[0m\u001b[1;33m,\u001b[0m \u001b[1;34m'name'\u001b[0m\u001b[1;33m,\u001b[0m \u001b[1;34m'sks'\u001b[0m\u001b[1;33m,\u001b[0m \u001b[1;34m'numeric'\u001b[0m\u001b[1;33m,\u001b[0m \u001b[1;34m'alphabetic'\u001b[0m\u001b[1;33m,\u001b[0m \u001b[1;34m'point'\u001b[0m\u001b[1;33m,\u001b[0m \u001b[1;34m'status'\u001b[0m\u001b[1;33m,\u001b[0m \u001b[1;34m'classname'\u001b[0m\u001b[1;33m)\u001b[0m\u001b[1;33m)\u001b[0m\u001b[1;33m\u001b[0m\u001b[1;33m\u001b[0m\u001b[0m\n",
      "\u001b[1;32m<ipython-input-16-9aaa200d1ea8>\u001b[0m in \u001b[0;36mget_all_scores\u001b[1;34m(self, semester)\u001b[0m\n\u001b[0;32m     35\u001b[0m         \u001b[0mpoint\u001b[0m\u001b[1;33m=\u001b[0m\u001b[0mself\u001b[0m\u001b[1;33m.\u001b[0m\u001b[0mcourse_max_score_subquery\u001b[0m\u001b[1;33m(\u001b[0m\u001b[1;34m'point'\u001b[0m\u001b[1;33m)\u001b[0m\u001b[1;33m,\u001b[0m\u001b[1;33m\u001b[0m\u001b[1;33m\u001b[0m\u001b[0m\n\u001b[0;32m     36\u001b[0m         \u001b[0mstatus\u001b[0m\u001b[1;33m=\u001b[0m\u001b[0mmodels\u001b[0m\u001b[1;33m.\u001b[0m\u001b[0mValue\u001b[0m\u001b[1;33m(\u001b[0m\u001b[0mget_score_status\u001b[0m\u001b[1;33m(\u001b[0m\u001b[1;34m'alphabetic'\u001b[0m\u001b[1;33m)\u001b[0m\u001b[1;33m,\u001b[0m \u001b[0moutput_field\u001b[0m\u001b[1;33m=\u001b[0m\u001b[0mmodels\u001b[0m\u001b[1;33m.\u001b[0m\u001b[0mCharField\u001b[0m\u001b[1;33m(\u001b[0m\u001b[1;33m)\u001b[0m\u001b[1;33m)\u001b[0m\u001b[1;33m,\u001b[0m\u001b[1;33m\u001b[0m\u001b[1;33m\u001b[0m\u001b[0m\n\u001b[1;32m---> 37\u001b[1;33m         \u001b[0mclassname\u001b[0m\u001b[1;33m=\u001b[0m\u001b[0mget_score_classname\u001b[0m\u001b[1;33m(\u001b[0m\u001b[0mmodels\u001b[0m\u001b[1;33m.\u001b[0m\u001b[0mF\u001b[0m\u001b[1;33m(\u001b[0m\u001b[1;34m'alphabetic'\u001b[0m\u001b[1;33m)\u001b[0m\u001b[1;33m)\u001b[0m\u001b[1;33m,\u001b[0m\u001b[1;33m\u001b[0m\u001b[1;33m\u001b[0m\u001b[0m\n\u001b[0m\u001b[0;32m     38\u001b[0m     )\n\u001b[0;32m     39\u001b[0m     \u001b[1;32mreturn\u001b[0m \u001b[0mscores\u001b[0m\u001b[1;33m\u001b[0m\u001b[1;33m\u001b[0m\u001b[0m\n",
      "\u001b[1;32mD:\\ZEN_PROJECT\\siskaweb\\.venv\\lib\\site-packages\\django\\db\\models\\query.py\u001b[0m in \u001b[0;36mannotate\u001b[1;34m(self, *args, **kwargs)\u001b[0m\n\u001b[0;32m   1040\u001b[0m         \"\"\"\n\u001b[0;32m   1041\u001b[0m         \u001b[0mself\u001b[0m\u001b[1;33m.\u001b[0m\u001b[0m_not_support_combined_queries\u001b[0m\u001b[1;33m(\u001b[0m\u001b[1;34m'annotate'\u001b[0m\u001b[1;33m)\u001b[0m\u001b[1;33m\u001b[0m\u001b[1;33m\u001b[0m\u001b[0m\n\u001b[1;32m-> 1042\u001b[1;33m         \u001b[0mself\u001b[0m\u001b[1;33m.\u001b[0m\u001b[0m_validate_values_are_expressions\u001b[0m\u001b[1;33m(\u001b[0m\u001b[0margs\u001b[0m \u001b[1;33m+\u001b[0m \u001b[0mtuple\u001b[0m\u001b[1;33m(\u001b[0m\u001b[0mkwargs\u001b[0m\u001b[1;33m.\u001b[0m\u001b[0mvalues\u001b[0m\u001b[1;33m(\u001b[0m\u001b[1;33m)\u001b[0m\u001b[1;33m)\u001b[0m\u001b[1;33m,\u001b[0m \u001b[0mmethod_name\u001b[0m\u001b[1;33m=\u001b[0m\u001b[1;34m'annotate'\u001b[0m\u001b[1;33m)\u001b[0m\u001b[1;33m\u001b[0m\u001b[1;33m\u001b[0m\u001b[0m\n\u001b[0m\u001b[0;32m   1043\u001b[0m         \u001b[0mannotations\u001b[0m \u001b[1;33m=\u001b[0m \u001b[1;33m{\u001b[0m\u001b[1;33m}\u001b[0m\u001b[1;33m\u001b[0m\u001b[1;33m\u001b[0m\u001b[0m\n\u001b[0;32m   1044\u001b[0m         \u001b[1;32mfor\u001b[0m \u001b[0marg\u001b[0m \u001b[1;32min\u001b[0m \u001b[0margs\u001b[0m\u001b[1;33m:\u001b[0m\u001b[1;33m\u001b[0m\u001b[1;33m\u001b[0m\u001b[0m\n",
      "\u001b[1;32mD:\\ZEN_PROJECT\\siskaweb\\.venv\\lib\\site-packages\\django\\db\\models\\query.py\u001b[0m in \u001b[0;36m_validate_values_are_expressions\u001b[1;34m(values, method_name)\u001b[0m\n\u001b[0;32m   1327\u001b[0m                 'QuerySet.%s() received non-expression(s): %s.' % (\n\u001b[0;32m   1328\u001b[0m                     \u001b[0mmethod_name\u001b[0m\u001b[1;33m,\u001b[0m\u001b[1;33m\u001b[0m\u001b[1;33m\u001b[0m\u001b[0m\n\u001b[1;32m-> 1329\u001b[1;33m                     \u001b[1;34m', '\u001b[0m\u001b[1;33m.\u001b[0m\u001b[0mjoin\u001b[0m\u001b[1;33m(\u001b[0m\u001b[0minvalid_args\u001b[0m\u001b[1;33m)\u001b[0m\u001b[1;33m,\u001b[0m\u001b[1;33m\u001b[0m\u001b[1;33m\u001b[0m\u001b[0m\n\u001b[0m\u001b[0;32m   1330\u001b[0m                 )\n\u001b[0;32m   1331\u001b[0m             )\n",
      "\u001b[1;31mTypeError\u001b[0m: QuerySet.annotate() received non-expression(s): ."
     ]
    }
   ],
   "source": [
    "def get_score_status(alpha_score):\n",
    "    if alpha_score not in ['A', 'B', 'C', 'D']:\n",
    "        return '-'\n",
    "    status = {\n",
    "        'A': 'lulus',\n",
    "        'B': 'lulus',\n",
    "        'C': 'lulus',\n",
    "        'D': 'mengulang',\n",
    "        'E': 'mengulang'\n",
    "    }\n",
    "    return status[alpha_score]\n",
    "\n",
    "\n",
    "def get_score_classname(alpha_score):\n",
    "    print(alpha_score)\n",
    "    if alpha_score not in ['A', 'B', 'C', 'D']:\n",
    "        return ''\n",
    "    status = {\n",
    "        'A': 'success',\n",
    "        'B': 'success',\n",
    "        'C': 'warning',\n",
    "        'D': 'danger',\n",
    "        'E': 'danger'\n",
    "    }\n",
    "    return status[alpha_score]\n",
    "\n",
    "def get_all_scores(self, semester=None):\n",
    "    courses = self.curriculum.curriculum_courses.all()\n",
    "    if semester:\n",
    "        courses = courses.filter(semester_number=semester)\n",
    "    scores = courses.annotate(\n",
    "        alphabetic=self.course_max_score_subquery('alphabetic'),\n",
    "        numeric=self.course_max_score_subquery('numeric'),\n",
    "        sks=self.course_max_score_subquery('sks'),\n",
    "        point=self.course_max_score_subquery('point'),\n",
    "        status=models.Value(get_score_status('alphabetic'), output_field=models.CharField()),\n",
    "        classname=get_score_classname(models.F('alphabetic')),\n",
    "    )\n",
    "    return scores\n",
    "\n",
    "def get_scores_summary(scores):\n",
    "    summary = scores.aggregate(\n",
    "        course_remedy=models.Count('id', filter=models.Q(numeric__gt='C')),\n",
    "        course_graduate=models.Count('id', filter=models.Q(numeric__lte='C')),\n",
    "        course_total=models.Count('id', filter=models.Q(alphabetic__isnull=False)),\n",
    "        sks_remedy=models.Sum('sks', filter=models.Q(alphabetic__gt='C')),\n",
    "        sks_graduate=models.Sum('sks', filter=models.Q(alphabetic__lte='C')),\n",
    "        sks_total=models.Sum('sks', filter=models.Q(alphabetic__isnull=False)),\n",
    "        total_point=models.Sum('point', filter=models.Q(alphabetic__isnull=False)),\n",
    "    )\n",
    "    summary['ips'] = summary['total_point'] / summary['sks_total']\n",
    "    return summary\n",
    "\n",
    "student = Student.objects.first()\n",
    "scores = get_all_scores(student, semester=5)\n",
    "summary = get_scores_summary(scores)\n",
    "tab1 = pd.DataFrame(data=scores.values('id', 'name', 'sks', 'numeric', 'alphabetic', 'point', 'status', 'classname'))\n",
    "print(tab1)\n",
    "tab2 = pd.DataFrame(data=summary, index=[0])\n",
    "tab2"
   ]
  }
 ],
 "metadata": {
  "kernelspec": {
   "display_name": "Django Shell-Plus",
   "language": "python",
   "name": "django_extensions"
  },
  "language_info": {
   "codemirror_mode": {
    "name": "ipython",
    "version": 3
   },
   "file_extension": ".py",
   "mimetype": "text/x-python",
   "name": "python",
   "nbconvert_exporter": "python",
   "pygments_lexer": "ipython3",
   "version": "3.7.4"
  }
 },
 "nbformat": 4,
 "nbformat_minor": 4
}
